{
  "nbformat": 4,
  "nbformat_minor": 0,
  "metadata": {
    "kernelspec": {
      "display_name": "Python 3",
      "language": "python",
      "name": "python3"
    },
    "language_info": {
      "codemirror_mode": {
        "name": "ipython",
        "version": 3
      },
      "file_extension": ".py",
      "mimetype": "text/x-python",
      "name": "python",
      "nbconvert_exporter": "python",
      "pygments_lexer": "ipython3",
      "version": "3.6.5"
    },
    "colab": {
      "name": "Exercise_5.ipynb",
      "provenance": [],
      "include_colab_link": true
    }
  },
  "cells": [
    {
      "cell_type": "markdown",
      "metadata": {
        "id": "view-in-github",
        "colab_type": "text"
      },
      "source": [
        "<a href=\"https://colab.research.google.com/github/YogeshKMeena/IADS_Codes/blob/main/Exercise_5.ipynb\" target=\"_parent\"><img src=\"https://colab.research.google.com/assets/colab-badge.svg\" alt=\"Open In Colab\"/></a>"
      ]
    },
    {
      "cell_type": "markdown",
      "metadata": {
        "id": "U0dSimxOHsoP"
      },
      "source": [
        "## Functions\n",
        "Most of the times, In a algorithm the statements keep repeating and it will be a tedious job to execute the same statements again and again and will consume a lot of memory and is not efficient. Enter Functions."
      ]
    },
    {
      "cell_type": "code",
      "metadata": {
        "id": "D_g9SzQCHsoQ",
        "outputId": "8c026ed4-3d11-42d9-abf7-ac7c747a4d75"
      },
      "source": [
        "print(\"Hey Adam!\")\n",
        "print(\"Adam, How do you do?\")"
      ],
      "execution_count": null,
      "outputs": [
        {
          "output_type": "stream",
          "text": [
            "Hey Adam!\n",
            "Adam, How do you do?\n"
          ],
          "name": "stdout"
        }
      ]
    },
    {
      "cell_type": "code",
      "metadata": {
        "id": "lByOntO5HsoR"
      },
      "source": [
        "def firstfunc():\n",
        "    print(\"Hey Adam!\")\n",
        "    print(\"Adam, How do you do?\")"
      ],
      "execution_count": null,
      "outputs": []
    },
    {
      "cell_type": "code",
      "metadata": {
        "id": "zzsKDSiLHsoS",
        "outputId": "ef4987e4-6bdc-480a-9fde-a0200b997179"
      },
      "source": [
        "firstfunc()"
      ],
      "execution_count": null,
      "outputs": [
        {
          "output_type": "stream",
          "text": [
            "Hey Adam!\n",
            "Adam, How do you do?\n"
          ],
          "name": "stdout"
        }
      ]
    },
    {
      "cell_type": "markdown",
      "metadata": {
        "id": "VUJSk6BQHsoS"
      },
      "source": [
        "**firstfunc()** every time just prints the message to a single person. We can make our function **firstfunc()** to accept arguements which will store the name and then prints respective to that accepted name. To do so, add a argument within the function as shown."
      ]
    },
    {
      "cell_type": "code",
      "metadata": {
        "id": "oIJtGBMLHsoT"
      },
      "source": [
        "def firstfunc1(username):\n",
        "    print(\"Hey\", username + '!')\n",
        "    print(username + ',' ,\"How do you do?\")"
      ],
      "execution_count": null,
      "outputs": []
    },
    {
      "cell_type": "code",
      "metadata": {
        "id": "g1VCpniCHsoT",
        "outputId": "cd715a1e-eca1-4198-8bb2-de32202a1764"
      },
      "source": [
        "name1 = firstfunc1('Haider : ')"
      ],
      "execution_count": null,
      "outputs": [
        {
          "output_type": "stream",
          "text": [
            "Hey Haider : !\n",
            "Haider : , How do you do?\n"
          ],
          "name": "stdout"
        }
      ]
    },
    {
      "cell_type": "markdown",
      "metadata": {
        "id": "8ZZHhrbEHsoU"
      },
      "source": [
        "## Return Statement\n",
        "\n",
        "When the function results in some value and that value has to be stored in a variable or needs to be sent back or returned for further operation to the main algorithm, return statement is used."
      ]
    },
    {
      "cell_type": "code",
      "metadata": {
        "id": "SxBgbqqqHsoV"
      },
      "source": [
        "def times(x,y):\n",
        "    z = x*y\n",
        "    return(z)"
      ],
      "execution_count": 1,
      "outputs": []
    },
    {
      "cell_type": "code",
      "metadata": {
        "id": "9itjcYmoHsoW",
        "colab": {
          "base_uri": "https://localhost:8080/"
        },
        "outputId": "30b2465b-1551-4a24-e67c-be2841d307bb"
      },
      "source": [
        "times(5,6)"
      ],
      "execution_count": 2,
      "outputs": [
        {
          "output_type": "execute_result",
          "data": {
            "text/plain": [
              "30"
            ]
          },
          "metadata": {
            "tags": []
          },
          "execution_count": 2
        }
      ]
    },
    {
      "cell_type": "code",
      "metadata": {
        "id": "uHQ6hwIYHsoW",
        "colab": {
          "base_uri": "https://localhost:8080/"
        },
        "outputId": "3e71402f-0367-41a4-a9d2-52819e66b962"
      },
      "source": [
        "c = times(4,5)\n",
        "print(c)"
      ],
      "execution_count": 3,
      "outputs": [
        {
          "output_type": "stream",
          "text": [
            "20\n"
          ],
          "name": "stdout"
        }
      ]
    },
    {
      "cell_type": "code",
      "metadata": {
        "id": "KPmC4XlRHsoW"
      },
      "source": [
        "eglist = [10,50,30,12,6,8,100]"
      ],
      "execution_count": 4,
      "outputs": []
    },
    {
      "cell_type": "code",
      "metadata": {
        "id": "QjihO8MBHsoX"
      },
      "source": [
        "def egfunc(eglist):\n",
        "    highest = max(eglist)\n",
        "    lowest = min(eglist)\n",
        "    first = eglist[0]\n",
        "    last = eglist[-1]\n",
        "    return highest,lowest,first,last"
      ],
      "execution_count": 5,
      "outputs": []
    },
    {
      "cell_type": "code",
      "metadata": {
        "id": "r1YsDmDyHsoX",
        "outputId": "4ed7b8ed-8b4b-4efa-d3cd-b5e96b75c5bd"
      },
      "source": [
        "egfunc(eglist)"
      ],
      "execution_count": null,
      "outputs": [
        {
          "output_type": "execute_result",
          "data": {
            "text/plain": [
              "(100, 6, 10, 100)"
            ]
          },
          "metadata": {
            "tags": []
          },
          "execution_count": 15
        }
      ]
    },
    {
      "cell_type": "markdown",
      "metadata": {
        "id": "0ohycnZrHsoX"
      },
      "source": [
        "## Implicit arguments\n",
        "\n",
        "When an argument of a function is common in majority of the cases or it is \"implicit\" this concept is used."
      ]
    },
    {
      "cell_type": "code",
      "metadata": {
        "id": "VPyeIubTHsoX"
      },
      "source": [
        "def implicitadd(x,y=3):\n",
        "    return x+y"
      ],
      "execution_count": null,
      "outputs": []
    },
    {
      "cell_type": "code",
      "metadata": {
        "id": "HQhJ4VmLHsoY",
        "outputId": "1d5a3f65-f4d4-4ef0-81d2-f8ceede9876e"
      },
      "source": [
        "implicitadd(4)"
      ],
      "execution_count": null,
      "outputs": [
        {
          "output_type": "execute_result",
          "data": {
            "text/plain": [
              "7"
            ]
          },
          "metadata": {
            "tags": []
          },
          "execution_count": 17
        }
      ]
    },
    {
      "cell_type": "code",
      "metadata": {
        "id": "HGsK8HkxHsoY",
        "outputId": "58d777b7-3b05-4345-d9a5-f89552d24890"
      },
      "source": [
        "implicitadd(4,6)"
      ],
      "execution_count": null,
      "outputs": [
        {
          "output_type": "execute_result",
          "data": {
            "text/plain": [
              "10"
            ]
          },
          "metadata": {
            "tags": []
          },
          "execution_count": 18
        }
      ]
    },
    {
      "cell_type": "markdown",
      "metadata": {
        "id": "Bcf8cLhXHsoY"
      },
      "source": [
        ""
      ]
    },
    {
      "cell_type": "code",
      "metadata": {
        "id": "ORdXYImjHsoY"
      },
      "source": [
        ""
      ],
      "execution_count": null,
      "outputs": []
    },
    {
      "cell_type": "markdown",
      "metadata": {
        "id": "bxvrRV4fHsoY"
      },
      "source": [
        "pass in python means do nothing."
      ]
    },
    {
      "cell_type": "markdown",
      "metadata": {
        "id": "ZF0Y5u5g_eri"
      },
      "source": [
        "#Create a simple calculator "
      ]
    },
    {
      "cell_type": "code",
      "metadata": {
        "id": "x9cbF5MMHsoY"
      },
      "source": [
        "# This function adds two numbers\n",
        "def Add(x,y):\n",
        "     z=x+y\n",
        "     return(z)"
      ],
      "execution_count": 29,
      "outputs": []
    },
    {
      "cell_type": "code",
      "metadata": {
        "id": "__qwb1JRHsoZ"
      },
      "source": [
        "# This function muliply two numbers\n",
        "def Multiply(x,y):\n",
        "  z=x*y\n",
        "  return (z)"
      ],
      "execution_count": 30,
      "outputs": []
    },
    {
      "cell_type": "code",
      "metadata": {
        "id": "B_OY6dvGHsoZ"
      },
      "source": [
        "# This function sub two numbers\n",
        "def Subtract(x,y):\n",
        "  z=x-y\n",
        "  return (z)"
      ],
      "execution_count": 31,
      "outputs": []
    },
    {
      "cell_type": "code",
      "metadata": {
        "id": "-GBziKAOHsoZ"
      },
      "source": [
        "# This function divs two numbers\n",
        "def Divide(x,y):\n",
        "  z=x/y\n",
        "  return (z)"
      ],
      "execution_count": 32,
      "outputs": []
    },
    {
      "cell_type": "code",
      "metadata": {
        "id": "zTcYu5oQHsoZ",
        "colab": {
          "base_uri": "https://localhost:8080/"
        },
        "outputId": "b75cfbc4-5743-4c3d-be93-148fe64afdf1"
      },
      "source": [
        "print(\"Select operation.\")\n",
        "print(\"1.Add\")\n",
        "print(\"2.Subtract\")\n",
        "print(\"3.Multiply\")\n",
        "print(\"4.Divide\")"
      ],
      "execution_count": 33,
      "outputs": [
        {
          "output_type": "stream",
          "text": [
            "Select operation.\n",
            "1.Add\n",
            "2.Subtract\n",
            "3.Multiply\n",
            "4.Divide\n"
          ],
          "name": "stdout"
        }
      ]
    },
    {
      "cell_type": "code",
      "metadata": {
        "id": "9mWTqqjiHsoZ"
      },
      "source": [
        "while True:\n",
        "    # Take input from the user\n",
        "    choice = input(\"Enter choice(1/2/3/4): \")\n",
        "\n",
        "    # Check if choice is one of the four options\n",
        "    if choice in ('1', '2', '3', '4'):\n",
        "        num1 = float(input(\"Enter first number: \"))\n",
        "        num2 = float(input(\"Enter second number: \"))\n",
        "\n",
        "        if choice == '1':\n",
        "            print(num1, \"+\", num2, \"=\", Add(num1, num2))\n",
        "\n",
        "        elif choice == '2':\n",
        "            print(num1, \"-\", num2, \"=\", Subtract(num1, num2))\n",
        "\n",
        "        elif choice == '3':\n",
        "            print(num1, \"*\", num2, \"=\", Multiply(num1, num2))\n",
        "\n",
        "        elif choice == '4':\n",
        "            print(num1, \"/\", num2, \"=\", Divide(num1, num2))\n",
        "        break\n",
        "    else:\n",
        "        print(\"Invalid Input\")"
      ],
      "execution_count": null,
      "outputs": []
    }
  ]
}