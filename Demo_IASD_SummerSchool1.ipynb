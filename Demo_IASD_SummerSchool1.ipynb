{
  "nbformat": 4,
  "nbformat_minor": 0,
  "metadata": {
    "colab": {
      "name": "Demo_IASD_SummerSchool1.ipynb",
      "provenance": [],
      "authorship_tag": "ABX9TyO5w3lc9PSRU+xME08W6U4k",
      "include_colab_link": true
    },
    "kernelspec": {
      "name": "python3",
      "display_name": "Python 3"
    },
    "language_info": {
      "name": "python"
    }
  },
  "cells": [
    {
      "cell_type": "markdown",
      "metadata": {
        "id": "view-in-github",
        "colab_type": "text"
      },
      "source": [
        "<a href=\"https://colab.research.google.com/github/YogeshKMeena/IADS_Codes/blob/main/Demo_IASD_SummerSchool1.ipynb\" target=\"_parent\"><img src=\"https://colab.research.google.com/assets/colab-badge.svg\" alt=\"Open In Colab\"/></a>"
      ]
    },
    {
      "cell_type": "markdown",
      "metadata": {
        "id": "-eBbwaVFANY4"
      },
      "source": [
        "#IADS Summer School \n",
        "## Hello Everyone \n",
        "###Hi \n",
        "This is my first code in Python \n",
        "1. \n",
        "2. \n",
        "\n",
        "*   List item\n",
        "*   List item\n",
        "\n"
      ]
    },
    {
      "cell_type": "code",
      "metadata": {
        "colab": {
          "base_uri": "https://localhost:8080/"
        },
        "id": "9Y-b8dTn_lBC",
        "outputId": "f623421f-4c37-45b3-82ff-23b125eac81a"
      },
      "source": [
        "#this is my comment line: I am printing a sentence \n",
        "print(\"Welcome to the IADS Summer School\")"
      ],
      "execution_count": 2,
      "outputs": [
        {
          "output_type": "stream",
          "text": [
            "Welcome to the IADS Summer School\n"
          ],
          "name": "stdout"
        }
      ]
    },
    {
      "cell_type": "code",
      "metadata": {
        "id": "Ltix_U7mBfIK"
      },
      "source": [
        ""
      ],
      "execution_count": null,
      "outputs": []
    }
  ]
}