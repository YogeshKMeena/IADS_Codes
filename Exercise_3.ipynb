{
  "nbformat": 4,
  "nbformat_minor": 0,
  "metadata": {
    "kernelspec": {
      "display_name": "Python 3",
      "language": "python",
      "name": "python3"
    },
    "language_info": {
      "codemirror_mode": {
        "name": "ipython",
        "version": 3
      },
      "file_extension": ".py",
      "mimetype": "text/x-python",
      "name": "python",
      "nbconvert_exporter": "python",
      "pygments_lexer": "ipython3",
      "version": "3.6.5"
    },
    "colab": {
      "name": "Exercise_3.ipynb",
      "provenance": [],
      "include_colab_link": true
    }
  },
  "cells": [
    {
      "cell_type": "markdown",
      "metadata": {
        "id": "view-in-github",
        "colab_type": "text"
      },
      "source": [
        "<a href=\"https://colab.research.google.com/github/YogeshKMeena/IADS_Codes/blob/main/Exercise_3.ipynb\" target=\"_parent\"><img src=\"https://colab.research.google.com/assets/colab-badge.svg\" alt=\"Open In Colab\"/></a>"
      ]
    },
    {
      "cell_type": "markdown",
      "metadata": {
        "id": "XfN7-6YaXbbK"
      },
      "source": [
        "### Data Structures\n",
        "In simple terms, It is the the collection or group of data in a particular structure.\n",
        "\n",
        "#### Lists\n",
        "Lists are the most commonly used data structure. Think of it as a sequence of data that is enclosed in square brackets and data are separated by a comma. Each of these data can be accessed by calling it's index value.\n",
        "\n",
        "Lists are declared by just equating a variable to '[ ]' or list."
      ]
    },
    {
      "cell_type": "code",
      "metadata": {
        "id": "cM_nLhIlXbbL"
      },
      "source": [
        "a = []"
      ],
      "execution_count": 1,
      "outputs": []
    },
    {
      "cell_type": "code",
      "metadata": {
        "id": "Ei8ovijqXbbL",
        "outputId": "20bf4bbc-d02b-43f8-e172-5fcaf713b550",
        "colab": {
          "base_uri": "https://localhost:8080/"
        }
      },
      "source": [
        "print(type(a))"
      ],
      "execution_count": 2,
      "outputs": [
        {
          "output_type": "stream",
          "text": [
            "<class 'list'>\n"
          ],
          "name": "stdout"
        }
      ]
    },
    {
      "cell_type": "code",
      "metadata": {
        "id": "nVzzywWBXbbL"
      },
      "source": [
        "x = ['apple', 'orange', 'banana']"
      ],
      "execution_count": 3,
      "outputs": []
    },
    {
      "cell_type": "code",
      "metadata": {
        "id": "kdqvNVzgXbbM",
        "outputId": "9ec74073-ed72-4bbd-ad1b-4b41f839247a",
        "colab": {
          "base_uri": "https://localhost:8080/",
          "height": 35
        }
      },
      "source": [
        "x[1]"
      ],
      "execution_count": 6,
      "outputs": [
        {
          "output_type": "execute_result",
          "data": {
            "application/vnd.google.colaboratory.intrinsic+json": {
              "type": "string"
            },
            "text/plain": [
              "'orange'"
            ]
          },
          "metadata": {
            "tags": []
          },
          "execution_count": 6
        }
      ]
    },
    {
      "cell_type": "code",
      "metadata": {
        "id": "WTyPFJULXbbM"
      },
      "source": [
        "## Indexing can also be done in reverse order. That is the last element can be accessed first.\n",
        "# Here, indexing starts from -1. Thus index value -1 will be orange and index -2 will be apple."
      ],
      "execution_count": 7,
      "outputs": []
    },
    {
      "cell_type": "code",
      "metadata": {
        "id": "kU1fr9sZXbbM",
        "outputId": "d9f4e5e1-cc8d-4d5b-e898-ea97655ecc7b",
        "colab": {
          "base_uri": "https://localhost:8080/",
          "height": 35
        }
      },
      "source": [
        "x[-2]"
      ],
      "execution_count": 13,
      "outputs": [
        {
          "output_type": "execute_result",
          "data": {
            "application/vnd.google.colaboratory.intrinsic+json": {
              "type": "string"
            },
            "text/plain": [
              "'orange'"
            ]
          },
          "metadata": {
            "tags": []
          },
          "execution_count": 13
        }
      ]
    },
    {
      "cell_type": "markdown",
      "metadata": {
        "id": "6XGCCTuTXbbM"
      },
      "source": [
        "As you might have already guessed, x[0] = x[-2], x[1] = x[-1]. This concept can be extended towards lists with more many elements."
      ]
    },
    {
      "cell_type": "code",
      "metadata": {
        "id": "6DrkZPfCXbbM"
      },
      "source": [
        "y = ['carrot','potato']"
      ],
      "execution_count": 14,
      "outputs": []
    },
    {
      "cell_type": "code",
      "metadata": {
        "id": "7Z7Wgpl4XbbM",
        "outputId": "996aae6d-ca8e-453c-c3e5-d7de779263bf",
        "colab": {
          "base_uri": "https://localhost:8080/"
        }
      },
      "source": [
        "z  = [x,y]\n",
        "print(z)"
      ],
      "execution_count": 15,
      "outputs": [
        {
          "output_type": "stream",
          "text": [
            "[['apple', 'orange', 'banana'], ['carrot', 'potato']]\n"
          ],
          "name": "stdout"
        }
      ]
    },
    {
      "cell_type": "code",
      "metadata": {
        "id": "IwSRpnk-XbbN",
        "outputId": "d729d26c-8826-4806-f7c3-dadfbf5824c9",
        "colab": {
          "base_uri": "https://localhost:8080/"
        }
      },
      "source": [
        "z1 = z[0]\n",
        "print(z1)"
      ],
      "execution_count": 16,
      "outputs": [
        {
          "output_type": "stream",
          "text": [
            "['apple', 'orange', 'banana']\n"
          ],
          "name": "stdout"
        }
      ]
    },
    {
      "cell_type": "code",
      "metadata": {
        "id": "HDaxh2zqXbbN",
        "outputId": "48ad6edd-8946-458e-87a4-c9cdf9573028",
        "colab": {
          "base_uri": "https://localhost:8080/",
          "height": 35
        }
      },
      "source": [
        "z[1][1]"
      ],
      "execution_count": 20,
      "outputs": [
        {
          "output_type": "execute_result",
          "data": {
            "application/vnd.google.colaboratory.intrinsic+json": {
              "type": "string"
            },
            "text/plain": [
              "'potato'"
            ]
          },
          "metadata": {
            "tags": []
          },
          "execution_count": 20
        }
      ]
    },
    {
      "cell_type": "markdown",
      "metadata": {
        "id": "iG1tH8toXbbN"
      },
      "source": [
        "## Slicing\n",
        "Indexing was only limited to accessing a single element, Slicing on the other hand is accessing a sequence of data inside the list. In other words \"slicing\" the list.\n",
        "\n",
        "Slicing is done by defining the index values of the first element and the last element from the parent list that is required in the sliced list. It is written as parentlist[ a : b ] where a,b are the index values from the parent list. If a or b is not defined then the index value is considered to be the first value for a if a is not defined and the last value for b when b is not defined."
      ]
    },
    {
      "cell_type": "code",
      "metadata": {
        "id": "9JlE3q9QXbbN"
      },
      "source": [
        "num = [0,1,2,3,4,5,6,7,8,9,10]"
      ],
      "execution_count": 28,
      "outputs": []
    },
    {
      "cell_type": "code",
      "metadata": {
        "id": "PP9T9UmMXbbN",
        "outputId": "0abe8b30-35e3-46cd-a325-2cecf254c4be",
        "colab": {
          "base_uri": "https://localhost:8080/"
        }
      },
      "source": [
        "print(num[0:4])\n",
        "print(num[4:])"
      ],
      "execution_count": 23,
      "outputs": [
        {
          "output_type": "stream",
          "text": [
            "[0, 1, 2, 3]\n",
            "[4, 5, 6, 7, 8, 9]\n"
          ],
          "name": "stdout"
        }
      ]
    },
    {
      "cell_type": "code",
      "metadata": {
        "id": "w0LLPluaXbbO",
        "outputId": "345383b4-8611-4f3c-feb9-cefb4fd9d451",
        "colab": {
          "base_uri": "https://localhost:8080/"
        }
      },
      "source": [
        "num[:9:3]"
      ],
      "execution_count": 24,
      "outputs": [
        {
          "output_type": "execute_result",
          "data": {
            "text/plain": [
              "[0, 3, 6]"
            ]
          },
          "metadata": {
            "tags": []
          },
          "execution_count": 24
        }
      ]
    },
    {
      "cell_type": "code",
      "metadata": {
        "id": "sqT24zt2cbOT",
        "outputId": "9fda8ae4-1039-4d56-a125-a039d4914220",
        "colab": {
          "base_uri": "https://localhost:8080/"
        }
      },
      "source": [
        "print(num[:9:5])"
      ],
      "execution_count": 26,
      "outputs": [
        {
          "output_type": "stream",
          "text": [
            "[0, 5]\n"
          ],
          "name": "stdout"
        }
      ]
    },
    {
      "cell_type": "code",
      "metadata": {
        "id": "F_ktCA5-XbbO",
        "outputId": "8e55c8ec-38e0-4da8-b569-f5eab4371bf4",
        "colab": {
          "base_uri": "https://localhost:8080/"
        }
      },
      "source": [
        "len(num)"
      ],
      "execution_count": 29,
      "outputs": [
        {
          "output_type": "execute_result",
          "data": {
            "text/plain": [
              "11"
            ]
          },
          "metadata": {
            "tags": []
          },
          "execution_count": 29
        }
      ]
    },
    {
      "cell_type": "code",
      "metadata": {
        "id": "sxuEx55nXbbO",
        "outputId": "98942a5b-f870-47fa-f183-ad7d0e53eaaf",
        "colab": {
          "base_uri": "https://localhost:8080/"
        }
      },
      "source": [
        "min(num)"
      ],
      "execution_count": 30,
      "outputs": [
        {
          "output_type": "execute_result",
          "data": {
            "text/plain": [
              "0"
            ]
          },
          "metadata": {
            "tags": []
          },
          "execution_count": 30
        }
      ]
    },
    {
      "cell_type": "code",
      "metadata": {
        "id": "vdGBeHVCXbbO",
        "outputId": "dca0985a-c8e1-4bd9-f1d8-2c55a96aa201",
        "colab": {
          "base_uri": "https://localhost:8080/"
        }
      },
      "source": [
        "max(num)"
      ],
      "execution_count": 31,
      "outputs": [
        {
          "output_type": "execute_result",
          "data": {
            "text/plain": [
              "10"
            ]
          },
          "metadata": {
            "tags": []
          },
          "execution_count": 31
        }
      ]
    },
    {
      "cell_type": "markdown",
      "metadata": {
        "id": "NZqa1C3KXbbP"
      },
      "source": [
        "Lists can be concatenated by adding, '+' them. The resultant list will contain all the elements of the lists that were added. The resultant list will not be a nested list."
      ]
    },
    {
      "cell_type": "code",
      "metadata": {
        "id": "M0j9o6_4XbbP",
        "outputId": "83365336-789e-4b1a-ee8b-e19fc722dc77",
        "colab": {
          "base_uri": "https://localhost:8080/"
        }
      },
      "source": [
        "[1,2,3] + [5,4,7]"
      ],
      "execution_count": 33,
      "outputs": [
        {
          "output_type": "execute_result",
          "data": {
            "text/plain": [
              "[1, 2, 3, 5, 4, 7]"
            ]
          },
          "metadata": {
            "tags": []
          },
          "execution_count": 33
        }
      ]
    },
    {
      "cell_type": "markdown",
      "metadata": {
        "id": "q9ETRq5_XbbP"
      },
      "source": [
        "There might arise a requirement where you might need to check if a particular element is there in a predefined list. Consider the below list."
      ]
    },
    {
      "cell_type": "code",
      "metadata": {
        "id": "bzfJznO4XbbP"
      },
      "source": [
        "names = ['Earth','Air','Fire','Water']"
      ],
      "execution_count": 32,
      "outputs": []
    },
    {
      "cell_type": "code",
      "metadata": {
        "id": "jcdHvQaGXbbP",
        "outputId": "d80fc1a5-d8f7-4fec-d5df-8bffd5e6cf74",
        "colab": {
          "base_uri": "https://localhost:8080/"
        }
      },
      "source": [
        "'Fire' in names"
      ],
      "execution_count": 34,
      "outputs": [
        {
          "output_type": "execute_result",
          "data": {
            "text/plain": [
              "True"
            ]
          },
          "metadata": {
            "tags": []
          },
          "execution_count": 34
        }
      ]
    },
    {
      "cell_type": "code",
      "metadata": {
        "id": "vbyCnPh-XbbP",
        "outputId": "2b5829a4-4bac-49b2-e8f3-b93a09b812f9",
        "colab": {
          "base_uri": "https://localhost:8080/"
        }
      },
      "source": [
        "'Smith' in names"
      ],
      "execution_count": 36,
      "outputs": [
        {
          "output_type": "execute_result",
          "data": {
            "text/plain": [
              "False"
            ]
          },
          "metadata": {
            "tags": []
          },
          "execution_count": 36
        }
      ]
    },
    {
      "cell_type": "markdown",
      "metadata": {
        "id": "uwmMHlbHXbbQ"
      },
      "source": [
        "## Append "
      ]
    },
    {
      "cell_type": "code",
      "metadata": {
        "id": "CAHjMCIYXbbQ"
      },
      "source": [
        "lst = [1,1,4,8,7]"
      ],
      "execution_count": 37,
      "outputs": []
    },
    {
      "cell_type": "code",
      "metadata": {
        "id": "5pe4GA66XbbQ",
        "outputId": "4c43112b-81b4-40ea-d582-50ce7bc826a0",
        "colab": {
          "base_uri": "https://localhost:8080/"
        }
      },
      "source": [
        "\n",
        "lst.append(1)\n",
        "print(lst)"
      ],
      "execution_count": 38,
      "outputs": [
        {
          "output_type": "stream",
          "text": [
            "[1, 1, 4, 8, 7, 1]\n"
          ],
          "name": "stdout"
        }
      ]
    },
    {
      "cell_type": "code",
      "metadata": {
        "id": "hWn3Ebk1XbbQ",
        "outputId": "dccfa014-c48a-4d3f-8511-d2a5adc7695d",
        "colab": {
          "base_uri": "https://localhost:8080/"
        }
      },
      "source": [
        "lst.count(9)"
      ],
      "execution_count": 40,
      "outputs": [
        {
          "output_type": "execute_result",
          "data": {
            "text/plain": [
              "0"
            ]
          },
          "metadata": {
            "tags": []
          },
          "execution_count": 40
        }
      ]
    },
    {
      "cell_type": "markdown",
      "metadata": {
        "id": "63gSPDl9XbbQ"
      },
      "source": [
        "append( ) function can also be used to add a entire list at the end. Observe that the resultant list becomes a nested list."
      ]
    },
    {
      "cell_type": "code",
      "metadata": {
        "id": "tKr3uYXYXbbQ"
      },
      "source": [
        "lst1 = [5,4,2,8]"
      ],
      "execution_count": 41,
      "outputs": []
    },
    {
      "cell_type": "code",
      "metadata": {
        "id": "V5zJvXMGXbbR",
        "outputId": "c317e5b0-7213-415d-e410-7c3c2916b9b7",
        "colab": {
          "base_uri": "https://localhost:8080/"
        }
      },
      "source": [
        "lst.append(lst1)\n",
        "print(lst)"
      ],
      "execution_count": 42,
      "outputs": [
        {
          "output_type": "stream",
          "text": [
            "[1, 1, 4, 8, 7, 1, [5, 4, 2, 8]]\n"
          ],
          "name": "stdout"
        }
      ]
    },
    {
      "cell_type": "markdown",
      "metadata": {
        "id": "HAPt84CCXbbR"
      },
      "source": [
        "But if nested list is not what is desired then extend( ) function can be used."
      ]
    },
    {
      "cell_type": "code",
      "metadata": {
        "id": "YEQUx6vzXbbR",
        "outputId": "8fab2991-003d-4968-d8f5-e6e5a0d58daf",
        "colab": {
          "base_uri": "https://localhost:8080/"
        }
      },
      "source": [
        "lst.extend(lst1)\n",
        "print(lst)"
      ],
      "execution_count": 43,
      "outputs": [
        {
          "output_type": "stream",
          "text": [
            "[1, 1, 4, 8, 7, 1, [5, 4, 2, 8], 5, 4, 2, 8]\n"
          ],
          "name": "stdout"
        }
      ]
    },
    {
      "cell_type": "code",
      "metadata": {
        "id": "XIrfdwyUXbbR",
        "outputId": "9fccf0f5-f40b-4d9c-ece6-f8ae9bba7f01",
        "colab": {
          "base_uri": "https://localhost:8080/"
        }
      },
      "source": [
        "lst.index(8)"
      ],
      "execution_count": 69,
      "outputs": [
        {
          "output_type": "execute_result",
          "data": {
            "text/plain": [
              "3"
            ]
          },
          "metadata": {
            "tags": []
          },
          "execution_count": 69
        }
      ]
    },
    {
      "cell_type": "markdown",
      "metadata": {
        "id": "Db94LtOoXbbR"
      },
      "source": [
        "insert(x,y) is used to insert a element y at a specified index value x. append( ) function made it only possible to insert at the end."
      ]
    },
    {
      "cell_type": "code",
      "metadata": {
        "id": "XkGvj3CeXbbR",
        "outputId": "3a4ca9d9-067f-4f03-8f93-a40d80791f2f",
        "colab": {
          "base_uri": "https://localhost:8080/"
        }
      },
      "source": [
        "lst.insert(5, 'name')\n",
        "print(lst)"
      ],
      "execution_count": 48,
      "outputs": [
        {
          "output_type": "stream",
          "text": [
            "[1, 1, 4, 8, 7, 'name', 1, [5, 4, 2, 8], 5, 4, 2, 8]\n"
          ],
          "name": "stdout"
        }
      ]
    },
    {
      "cell_type": "markdown",
      "metadata": {
        "id": "hM-xpnAxXbbR"
      },
      "source": [
        "insert(x,y) inserts but does not replace element. If you want to replace the element with another element you simply assign the value to that particular index."
      ]
    },
    {
      "cell_type": "code",
      "metadata": {
        "id": "kIZSKyfUXbbR",
        "outputId": "d8e11a6a-67da-48ee-f267-0fa8a1c55bab"
      },
      "source": [
        "lst[5] = 'Python'\n",
        "print(lst)"
      ],
      "execution_count": null,
      "outputs": [
        {
          "output_type": "stream",
          "text": [
            "[1, 1, 4, 8, 7, 'Python', 1, 1, [5, 4, 2, 8], 5, 4, 2, 8]\n"
          ],
          "name": "stdout"
        }
      ]
    },
    {
      "cell_type": "markdown",
      "metadata": {
        "id": "6oX-aroFXbbS"
      },
      "source": [
        "pop( ) function return the last element in the list. This is similar to the operation of a stack. Hence it wouldn't be wrong to tell that lists can be used as a stack."
      ]
    },
    {
      "cell_type": "code",
      "metadata": {
        "id": "oExBa8m_XbbS",
        "outputId": "8f7707e5-1e0d-43df-e2f0-a380897affe3"
      },
      "source": [
        "lst.pop()"
      ],
      "execution_count": null,
      "outputs": [
        {
          "output_type": "execute_result",
          "data": {
            "text/plain": [
              "8"
            ]
          },
          "metadata": {
            "tags": []
          },
          "execution_count": 41
        }
      ]
    },
    {
      "cell_type": "markdown",
      "metadata": {
        "id": "riU9IMXxXbbS"
      },
      "source": [
        "Index value can be specified to pop a ceratin element corresponding to that index value."
      ]
    },
    {
      "cell_type": "code",
      "metadata": {
        "id": "WMzgei0DXbbS",
        "outputId": "57208f3c-d265-44df-bce4-11c18ad6cce4"
      },
      "source": [
        "lst.pop(0)"
      ],
      "execution_count": null,
      "outputs": [
        {
          "output_type": "execute_result",
          "data": {
            "text/plain": [
              "1"
            ]
          },
          "metadata": {
            "tags": []
          },
          "execution_count": 42
        }
      ]
    },
    {
      "cell_type": "code",
      "metadata": {
        "id": "KK70FH1YXbbS",
        "outputId": "1d6283e6-0045-4fdf-fc6b-a5914cb5d3b8"
      },
      "source": [
        "print(lst)"
      ],
      "execution_count": null,
      "outputs": [
        {
          "output_type": "stream",
          "text": [
            "[1, 4, 8, 7, 'Python', 1, 1, [5, 4, 2, 8], 5, 4, 2]\n"
          ],
          "name": "stdout"
        }
      ]
    },
    {
      "cell_type": "markdown",
      "metadata": {
        "id": "3tfUGdBDXbbS"
      },
      "source": [
        "pop( ) is used to remove element based on it's index value which can be assigned to a variable. One can also remove element by specifying the element itself using the remove( ) function."
      ]
    },
    {
      "cell_type": "code",
      "metadata": {
        "id": "P-qm1ogHXbbS",
        "outputId": "c3a1acd5-6ee6-41b8-d08a-a6319b81087d"
      },
      "source": [
        "lst.remove('Python')\n",
        "print(lst)"
      ],
      "execution_count": null,
      "outputs": [
        {
          "output_type": "stream",
          "text": [
            "[1, 4, 8, 7, 1, 1, [5, 4, 2, 8], 5, 4, 2]\n"
          ],
          "name": "stdout"
        }
      ]
    },
    {
      "cell_type": "code",
      "metadata": {
        "id": "W6hSjs8OXbbT",
        "outputId": "a7d4a42d-5f8d-4f56-8e43-6e338ac515f9"
      },
      "source": [
        "del(lst[1])\n",
        "print(lst)"
      ],
      "execution_count": null,
      "outputs": [
        {
          "output_type": "stream",
          "text": [
            "[1, 8, 7, 1, 1, [5, 4, 2, 8], 5, 4, 2]\n"
          ],
          "name": "stdout"
        }
      ]
    },
    {
      "cell_type": "markdown",
      "metadata": {
        "id": "vnoTDxb_XbbT"
      },
      "source": [
        "The entire elements present in the list can be reversed by using the reverse() function."
      ]
    },
    {
      "cell_type": "code",
      "metadata": {
        "id": "2Wmie0DVXbbT",
        "outputId": "e032ced6-350b-4502-a0c2-9e30270c509e"
      },
      "source": [
        "lst.reverse()\n",
        "print(lst)"
      ],
      "execution_count": null,
      "outputs": [
        {
          "output_type": "stream",
          "text": [
            "[2, 4, 5, [5, 4, 2, 8], 1, 1, 7, 8, 1]\n"
          ],
          "name": "stdout"
        }
      ]
    },
    {
      "cell_type": "markdown",
      "metadata": {
        "id": "aQxeMf5pXbbT"
      },
      "source": [
        "Note that the nested list [5,4,2,8] is treated as a single element of the parent list lst. Thus the elements inside the nested list is not reversed.\n",
        "\n",
        "Python offers built in operation sort( ) to arrange the elements in ascending order."
      ]
    },
    {
      "cell_type": "markdown",
      "metadata": {
        "id": "YJWsxayjXbbT"
      },
      "source": [
        "## Build In Function\n"
      ]
    },
    {
      "cell_type": "code",
      "metadata": {
        "id": "Ffla5_TZXbbT"
      },
      "source": [
        "set1 = set([1,2,3])\n",
        "set2 = set([2,3,4,5])"
      ],
      "execution_count": null,
      "outputs": []
    },
    {
      "cell_type": "code",
      "metadata": {
        "id": "aF3JvVsYXbbT",
        "outputId": "3519de27-265d-4427-a39b-ed34c5574a07"
      },
      "source": [
        "# union( ) function returns a set which contains all the elements of both the sets without repition.\n",
        "\n",
        "set1.union(set2)"
      ],
      "execution_count": null,
      "outputs": [
        {
          "output_type": "execute_result",
          "data": {
            "text/plain": [
              "{1, 2, 3, 4, 5}"
            ]
          },
          "metadata": {
            "tags": []
          },
          "execution_count": 53
        }
      ]
    },
    {
      "cell_type": "code",
      "metadata": {
        "id": "rYYUQVS1XbbU",
        "outputId": "a2320ab8-5c8a-4f02-9eac-d45dcfa7e6ae"
      },
      "source": [
        "set1.add(0)\n",
        "set1"
      ],
      "execution_count": null,
      "outputs": [
        {
          "output_type": "execute_result",
          "data": {
            "text/plain": [
              "{0, 1, 2, 3}"
            ]
          },
          "metadata": {
            "tags": []
          },
          "execution_count": 54
        }
      ]
    },
    {
      "cell_type": "code",
      "metadata": {
        "id": "eOz9cemeXbbU",
        "outputId": "addd3dda-3ede-4a50-bf19-5425d5402bf1"
      },
      "source": [
        "set1.intersection(set2)"
      ],
      "execution_count": null,
      "outputs": [
        {
          "output_type": "execute_result",
          "data": {
            "text/plain": [
              "{2, 3}"
            ]
          },
          "metadata": {
            "tags": []
          },
          "execution_count": 55
        }
      ]
    },
    {
      "cell_type": "code",
      "metadata": {
        "id": "kW-QudEjXbbU",
        "outputId": "79822a8b-2cb2-4fce-9445-86fd9917905f"
      },
      "source": [
        "set1.difference(set2)"
      ],
      "execution_count": null,
      "outputs": [
        {
          "output_type": "execute_result",
          "data": {
            "text/plain": [
              "{0, 1}"
            ]
          },
          "metadata": {
            "tags": []
          },
          "execution_count": 56
        }
      ]
    },
    {
      "cell_type": "code",
      "metadata": {
        "id": "G0-JLUmfXbbU",
        "outputId": "c8c5fcca-5cd6-469d-de09-0c1f15b5d42f"
      },
      "source": [
        "set1.issubset(set2)"
      ],
      "execution_count": null,
      "outputs": [
        {
          "output_type": "execute_result",
          "data": {
            "text/plain": [
              "False"
            ]
          },
          "metadata": {
            "tags": []
          },
          "execution_count": 57
        }
      ]
    },
    {
      "cell_type": "code",
      "metadata": {
        "id": "55PHfz5kXbbU"
      },
      "source": [
        ""
      ],
      "execution_count": null,
      "outputs": []
    }
  ]
}